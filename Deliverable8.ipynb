{
  "nbformat": 4,
  "nbformat_minor": 0,
  "metadata": {
    "colab": {
      "provenance": []
    },
    "kernelspec": {
      "name": "python3",
      "display_name": "Python 3"
    },
    "language_info": {
      "name": "python"
    }
  },
  "cells": [
    {
      "cell_type": "code",
      "execution_count": 8,
      "metadata": {
        "id": "z_IsoLVfiTyA"
      },
      "outputs": [],
      "source": [
        "import numpy as np\n"
      ]
    },
    {
      "cell_type": "code",
      "source": [
        "def random_list(size):\n",
        "  list = []\n",
        "  for i in range(size):\n",
        "    list.append(np.random.randint(10,50))\n",
        "  return list\n",
        "\n",
        "def sum_random (list):\n",
        "  sum = 0\n",
        "  for i in range(len(list)):\n",
        "    sum = sum + list[i]\n",
        "  return sum"
      ],
      "metadata": {
        "id": "Awj8DNuzi11c"
      },
      "execution_count": 9,
      "outputs": []
    },
    {
      "cell_type": "code",
      "source": [
        "n = int(input(\"Please enter an integer between 5 and 15\"))"
      ],
      "metadata": {
        "colab": {
          "base_uri": "https://localhost:8080/"
        },
        "id": "WjVLBkyjkHTI",
        "outputId": "29777d37-1ef6-4948-938e-ae3d81af2e97"
      },
      "execution_count": 10,
      "outputs": [
        {
          "name": "stdout",
          "output_type": "stream",
          "text": [
            "Please enter an integer between 5 and 158\n"
          ]
        }
      ]
    },
    {
      "cell_type": "code",
      "source": [
        "if n >= 5 and n <= 15:\n",
        "  MyList = random_list(n)\n",
        "  print(\"The elements of the array are:\", MyList)\n",
        "\n",
        "  MySum = sum_random(MyList)\n",
        "  print(\"The sum is:\", MySum)\n",
        "\n",
        "  MyList2 = np.random.randint(10, 50, n)\n",
        "  print(\"The elements of the second array are:\", MyList2)\n",
        "\n",
        "  MySum2 = sum(MyList2)\n",
        "  print(\"The sum of the second array is:\", MySum2)\n",
        "\n",
        "else:\n",
        "  print(\"Invalid input. Please enter an integer between 5 and 15.\")"
      ],
      "metadata": {
        "colab": {
          "base_uri": "https://localhost:8080/"
        },
        "id": "SA4vvxZ_j2P3",
        "outputId": "b40c0855-cc53-45ee-ead8-07a430ebbca0"
      },
      "execution_count": 11,
      "outputs": [
        {
          "output_type": "stream",
          "name": "stdout",
          "text": [
            "The elements of the array are: [15, 43, 27, 24, 24, 34, 48, 49]\n",
            "The sum is: 264\n",
            "The elements of the second array are: [20 33 21 46 14 26 10 47]\n",
            "The sum of the second array is: 217\n"
          ]
        }
      ]
    },
    {
      "cell_type": "code",
      "source": [],
      "metadata": {
        "id": "ChcFkIA-rrk9"
      },
      "execution_count": null,
      "outputs": []
    }
  ]
}